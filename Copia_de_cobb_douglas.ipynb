{
  "nbformat": 4,
  "nbformat_minor": 0,
  "metadata": {
    "colab": {
      "provenance": [],
      "authorship_tag": "ABX9TyNjSbYtM+Ra+rL5PwN0RYl3",
      "include_colab_link": true
    },
    "kernelspec": {
      "name": "python3",
      "display_name": "Python 3"
    },
    "language_info": {
      "name": "python"
    }
  },
  "cells": [
    {
      "cell_type": "markdown",
      "metadata": {
        "id": "view-in-github",
        "colab_type": "text"
      },
      "source": [
        "<a href=\"https://colab.research.google.com/github/JhonGraciaLo/regresion_simple/blob/main/Copia_de_cobb_douglas.ipynb\" target=\"_parent\"><img src=\"https://colab.research.google.com/assets/colab-badge.svg\" alt=\"Open In Colab\"/></a>"
      ]
    },
    {
      "cell_type": "code",
      "execution_count": 1,
      "metadata": {
        "id": "7Ib5fU9yE_qF"
      },
      "outputs": [],
      "source": [
        "# Se operativiza la función Cobb-Douglas\n"
      ]
    },
    {
      "cell_type": "markdown",
      "source": [
        "$ P_{L,K} = C L^{α}K^{(1-α)}$ \\\\\n",
        "$ P = C L^{α}K^{(1-α)}$ \\\\\n",
        "$ \\ln(P) = \\ln(CL^{α}K^{(1-α)})$ \\\\\n",
        "$ \\ln(P) = \\ln(C) + \\ln(L^{α})+K^{(1-α)}$ \\\\\n",
        "$ \\ln(P) = \\ln(C)+α\\ln(L)+(1-α)\\ln(K)$ \\\\\n",
        "$ \\ln(P) = \\ln(C) + α\\ln(L)+\\ln(K)-\\ln(K)$ \\\\\n",
        "$ \\ln(P)-\\ln(K) = \\ln(C) + α\\ln(L)-\\ln(K)$ \\\\\n",
        "$ \\ln(\\frac{P}{K}) = \\ln(C)+α\\ln(L)-α\\ln(K)$ \\\\\n",
        "$ \\ln(\\frac{P}{K}) = α(\\ln(L)-\\ln(K))+\\ln(C)$ \\\\\n",
        "$ \\ln(\\frac{P}{K}) = α\\ln(\\frac{L}{K})+\\ln(C)$ \\\\\n",
        "$Y = β_{1}X + β_{0}$ \\\\\n",
        "\n",
        "A partir de aquí, la función queda operativa."
      ],
      "metadata": {
        "id": "Q6V_dhetGG52"
      }
    },
    {
      "cell_type": "code",
      "source": [
        "import numpy as np\n",
        "import matplotlib.pyplot as plt\n",
        "import pandas as pd\n",
        "from sklearn import datasets\n",
        "from sklearn import datasets, linear_model\n"
      ],
      "metadata": {
        "id": "WsGbAZ0_OEyi"
      },
      "execution_count": 2,
      "outputs": []
    },
    {
      "cell_type": "code",
      "source": [
        "df = pd.read_excel(\"COBB_DOUGLAS.xlsx\")\n",
        "data = df.values\n",
        "df.head()"
      ],
      "metadata": {
        "id": "CtGCSnJmcK7U",
        "outputId": "3ad23c31-2d11-454f-d94f-1cbab646dc67",
        "colab": {
          "base_uri": "https://localhost:8080/",
          "height": 206
        }
      },
      "execution_count": 3,
      "outputs": [
        {
          "output_type": "execute_result",
          "data": {
            "text/plain": [
              "    año  producción  trabajo  capital\n",
              "0  1950          10       10       10\n",
              "1  1951          12       11       11\n",
              "2  1952          13       11       11\n",
              "3  1953          15       11       12\n",
              "4  1954          16       12       13"
            ],
            "text/html": [
              "\n",
              "  <div id=\"df-fe87ff04-06a8-40c8-94f2-1c13ce39057e\" class=\"colab-df-container\">\n",
              "    <div>\n",
              "<style scoped>\n",
              "    .dataframe tbody tr th:only-of-type {\n",
              "        vertical-align: middle;\n",
              "    }\n",
              "\n",
              "    .dataframe tbody tr th {\n",
              "        vertical-align: top;\n",
              "    }\n",
              "\n",
              "    .dataframe thead th {\n",
              "        text-align: right;\n",
              "    }\n",
              "</style>\n",
              "<table border=\"1\" class=\"dataframe\">\n",
              "  <thead>\n",
              "    <tr style=\"text-align: right;\">\n",
              "      <th></th>\n",
              "      <th>año</th>\n",
              "      <th>producción</th>\n",
              "      <th>trabajo</th>\n",
              "      <th>capital</th>\n",
              "    </tr>\n",
              "  </thead>\n",
              "  <tbody>\n",
              "    <tr>\n",
              "      <th>0</th>\n",
              "      <td>1950</td>\n",
              "      <td>10</td>\n",
              "      <td>10</td>\n",
              "      <td>10</td>\n",
              "    </tr>\n",
              "    <tr>\n",
              "      <th>1</th>\n",
              "      <td>1951</td>\n",
              "      <td>12</td>\n",
              "      <td>11</td>\n",
              "      <td>11</td>\n",
              "    </tr>\n",
              "    <tr>\n",
              "      <th>2</th>\n",
              "      <td>1952</td>\n",
              "      <td>13</td>\n",
              "      <td>11</td>\n",
              "      <td>11</td>\n",
              "    </tr>\n",
              "    <tr>\n",
              "      <th>3</th>\n",
              "      <td>1953</td>\n",
              "      <td>15</td>\n",
              "      <td>11</td>\n",
              "      <td>12</td>\n",
              "    </tr>\n",
              "    <tr>\n",
              "      <th>4</th>\n",
              "      <td>1954</td>\n",
              "      <td>16</td>\n",
              "      <td>12</td>\n",
              "      <td>13</td>\n",
              "    </tr>\n",
              "  </tbody>\n",
              "</table>\n",
              "</div>\n",
              "    <div class=\"colab-df-buttons\">\n",
              "\n",
              "  <div class=\"colab-df-container\">\n",
              "    <button class=\"colab-df-convert\" onclick=\"convertToInteractive('df-fe87ff04-06a8-40c8-94f2-1c13ce39057e')\"\n",
              "            title=\"Convert this dataframe to an interactive table.\"\n",
              "            style=\"display:none;\">\n",
              "\n",
              "  <svg xmlns=\"http://www.w3.org/2000/svg\" height=\"24px\" viewBox=\"0 -960 960 960\">\n",
              "    <path d=\"M120-120v-720h720v720H120Zm60-500h600v-160H180v160Zm220 220h160v-160H400v160Zm0 220h160v-160H400v160ZM180-400h160v-160H180v160Zm440 0h160v-160H620v160ZM180-180h160v-160H180v160Zm440 0h160v-160H620v160Z\"/>\n",
              "  </svg>\n",
              "    </button>\n",
              "\n",
              "  <style>\n",
              "    .colab-df-container {\n",
              "      display:flex;\n",
              "      gap: 12px;\n",
              "    }\n",
              "\n",
              "    .colab-df-convert {\n",
              "      background-color: #E8F0FE;\n",
              "      border: none;\n",
              "      border-radius: 50%;\n",
              "      cursor: pointer;\n",
              "      display: none;\n",
              "      fill: #1967D2;\n",
              "      height: 32px;\n",
              "      padding: 0 0 0 0;\n",
              "      width: 32px;\n",
              "    }\n",
              "\n",
              "    .colab-df-convert:hover {\n",
              "      background-color: #E2EBFA;\n",
              "      box-shadow: 0px 1px 2px rgba(60, 64, 67, 0.3), 0px 1px 3px 1px rgba(60, 64, 67, 0.15);\n",
              "      fill: #174EA6;\n",
              "    }\n",
              "\n",
              "    .colab-df-buttons div {\n",
              "      margin-bottom: 4px;\n",
              "    }\n",
              "\n",
              "    [theme=dark] .colab-df-convert {\n",
              "      background-color: #3B4455;\n",
              "      fill: #D2E3FC;\n",
              "    }\n",
              "\n",
              "    [theme=dark] .colab-df-convert:hover {\n",
              "      background-color: #434B5C;\n",
              "      box-shadow: 0px 1px 3px 1px rgba(0, 0, 0, 0.15);\n",
              "      filter: drop-shadow(0px 1px 2px rgba(0, 0, 0, 0.3));\n",
              "      fill: #FFFFFF;\n",
              "    }\n",
              "  </style>\n",
              "\n",
              "    <script>\n",
              "      const buttonEl =\n",
              "        document.querySelector('#df-fe87ff04-06a8-40c8-94f2-1c13ce39057e button.colab-df-convert');\n",
              "      buttonEl.style.display =\n",
              "        google.colab.kernel.accessAllowed ? 'block' : 'none';\n",
              "\n",
              "      async function convertToInteractive(key) {\n",
              "        const element = document.querySelector('#df-fe87ff04-06a8-40c8-94f2-1c13ce39057e');\n",
              "        const dataTable =\n",
              "          await google.colab.kernel.invokeFunction('convertToInteractive',\n",
              "                                                    [key], {});\n",
              "        if (!dataTable) return;\n",
              "\n",
              "        const docLinkHtml = 'Like what you see? Visit the ' +\n",
              "          '<a target=\"_blank\" href=https://colab.research.google.com/notebooks/data_table.ipynb>data table notebook</a>'\n",
              "          + ' to learn more about interactive tables.';\n",
              "        element.innerHTML = '';\n",
              "        dataTable['output_type'] = 'display_data';\n",
              "        await google.colab.output.renderOutput(dataTable, element);\n",
              "        const docLink = document.createElement('div');\n",
              "        docLink.innerHTML = docLinkHtml;\n",
              "        element.appendChild(docLink);\n",
              "      }\n",
              "    </script>\n",
              "  </div>\n",
              "\n",
              "\n",
              "<div id=\"df-158b1cfc-4f1c-4d6a-a0cc-50969fafb511\">\n",
              "  <button class=\"colab-df-quickchart\" onclick=\"quickchart('df-158b1cfc-4f1c-4d6a-a0cc-50969fafb511')\"\n",
              "            title=\"Suggest charts\"\n",
              "            style=\"display:none;\">\n",
              "\n",
              "<svg xmlns=\"http://www.w3.org/2000/svg\" height=\"24px\"viewBox=\"0 0 24 24\"\n",
              "     width=\"24px\">\n",
              "    <g>\n",
              "        <path d=\"M19 3H5c-1.1 0-2 .9-2 2v14c0 1.1.9 2 2 2h14c1.1 0 2-.9 2-2V5c0-1.1-.9-2-2-2zM9 17H7v-7h2v7zm4 0h-2V7h2v10zm4 0h-2v-4h2v4z\"/>\n",
              "    </g>\n",
              "</svg>\n",
              "  </button>\n",
              "\n",
              "<style>\n",
              "  .colab-df-quickchart {\n",
              "      --bg-color: #E8F0FE;\n",
              "      --fill-color: #1967D2;\n",
              "      --hover-bg-color: #E2EBFA;\n",
              "      --hover-fill-color: #174EA6;\n",
              "      --disabled-fill-color: #AAA;\n",
              "      --disabled-bg-color: #DDD;\n",
              "  }\n",
              "\n",
              "  [theme=dark] .colab-df-quickchart {\n",
              "      --bg-color: #3B4455;\n",
              "      --fill-color: #D2E3FC;\n",
              "      --hover-bg-color: #434B5C;\n",
              "      --hover-fill-color: #FFFFFF;\n",
              "      --disabled-bg-color: #3B4455;\n",
              "      --disabled-fill-color: #666;\n",
              "  }\n",
              "\n",
              "  .colab-df-quickchart {\n",
              "    background-color: var(--bg-color);\n",
              "    border: none;\n",
              "    border-radius: 50%;\n",
              "    cursor: pointer;\n",
              "    display: none;\n",
              "    fill: var(--fill-color);\n",
              "    height: 32px;\n",
              "    padding: 0;\n",
              "    width: 32px;\n",
              "  }\n",
              "\n",
              "  .colab-df-quickchart:hover {\n",
              "    background-color: var(--hover-bg-color);\n",
              "    box-shadow: 0 1px 2px rgba(60, 64, 67, 0.3), 0 1px 3px 1px rgba(60, 64, 67, 0.15);\n",
              "    fill: var(--button-hover-fill-color);\n",
              "  }\n",
              "\n",
              "  .colab-df-quickchart-complete:disabled,\n",
              "  .colab-df-quickchart-complete:disabled:hover {\n",
              "    background-color: var(--disabled-bg-color);\n",
              "    fill: var(--disabled-fill-color);\n",
              "    box-shadow: none;\n",
              "  }\n",
              "\n",
              "  .colab-df-spinner {\n",
              "    border: 2px solid var(--fill-color);\n",
              "    border-color: transparent;\n",
              "    border-bottom-color: var(--fill-color);\n",
              "    animation:\n",
              "      spin 1s steps(1) infinite;\n",
              "  }\n",
              "\n",
              "  @keyframes spin {\n",
              "    0% {\n",
              "      border-color: transparent;\n",
              "      border-bottom-color: var(--fill-color);\n",
              "      border-left-color: var(--fill-color);\n",
              "    }\n",
              "    20% {\n",
              "      border-color: transparent;\n",
              "      border-left-color: var(--fill-color);\n",
              "      border-top-color: var(--fill-color);\n",
              "    }\n",
              "    30% {\n",
              "      border-color: transparent;\n",
              "      border-left-color: var(--fill-color);\n",
              "      border-top-color: var(--fill-color);\n",
              "      border-right-color: var(--fill-color);\n",
              "    }\n",
              "    40% {\n",
              "      border-color: transparent;\n",
              "      border-right-color: var(--fill-color);\n",
              "      border-top-color: var(--fill-color);\n",
              "    }\n",
              "    60% {\n",
              "      border-color: transparent;\n",
              "      border-right-color: var(--fill-color);\n",
              "    }\n",
              "    80% {\n",
              "      border-color: transparent;\n",
              "      border-right-color: var(--fill-color);\n",
              "      border-bottom-color: var(--fill-color);\n",
              "    }\n",
              "    90% {\n",
              "      border-color: transparent;\n",
              "      border-bottom-color: var(--fill-color);\n",
              "    }\n",
              "  }\n",
              "</style>\n",
              "\n",
              "  <script>\n",
              "    async function quickchart(key) {\n",
              "      const quickchartButtonEl =\n",
              "        document.querySelector('#' + key + ' button');\n",
              "      quickchartButtonEl.disabled = true;  // To prevent multiple clicks.\n",
              "      quickchartButtonEl.classList.add('colab-df-spinner');\n",
              "      try {\n",
              "        const charts = await google.colab.kernel.invokeFunction(\n",
              "            'suggestCharts', [key], {});\n",
              "      } catch (error) {\n",
              "        console.error('Error during call to suggestCharts:', error);\n",
              "      }\n",
              "      quickchartButtonEl.classList.remove('colab-df-spinner');\n",
              "      quickchartButtonEl.classList.add('colab-df-quickchart-complete');\n",
              "    }\n",
              "    (() => {\n",
              "      let quickchartButtonEl =\n",
              "        document.querySelector('#df-158b1cfc-4f1c-4d6a-a0cc-50969fafb511 button');\n",
              "      quickchartButtonEl.style.display =\n",
              "        google.colab.kernel.accessAllowed ? 'block' : 'none';\n",
              "    })();\n",
              "  </script>\n",
              "</div>\n",
              "\n",
              "    </div>\n",
              "  </div>\n"
            ],
            "application/vnd.google.colaboratory.intrinsic+json": {
              "type": "dataframe",
              "variable_name": "df",
              "summary": "{\n  \"name\": \"df\",\n  \"rows\": 51,\n  \"fields\": [\n    {\n      \"column\": \"a\\u00f1o\",\n      \"properties\": {\n        \"dtype\": \"number\",\n        \"std\": 14,\n        \"min\": 1950,\n        \"max\": 2000,\n        \"num_unique_values\": 51,\n        \"samples\": [\n          1993,\n          1990,\n          1996\n        ],\n        \"semantic_type\": \"\",\n        \"description\": \"\"\n      }\n    },\n    {\n      \"column\": \"producci\\u00f3n\",\n      \"properties\": {\n        \"dtype\": \"number\",\n        \"std\": 20,\n        \"min\": 10,\n        \"max\": 79,\n        \"num_unique_values\": 45,\n        \"samples\": [\n          70,\n          47,\n          49\n        ],\n        \"semantic_type\": \"\",\n        \"description\": \"\"\n      }\n    },\n    {\n      \"column\": \"trabajo\",\n      \"properties\": {\n        \"dtype\": \"number\",\n        \"std\": 11,\n        \"min\": 10,\n        \"max\": 46,\n        \"num_unique_values\": 35,\n        \"samples\": [\n          38,\n          25,\n          35\n        ],\n        \"semantic_type\": \"\",\n        \"description\": \"\"\n      }\n    },\n    {\n      \"column\": \"capital\",\n      \"properties\": {\n        \"dtype\": \"number\",\n        \"std\": 11,\n        \"min\": 10,\n        \"max\": 48,\n        \"num_unique_values\": 36,\n        \"samples\": [\n          48,\n          25,\n          38\n        ],\n        \"semantic_type\": \"\",\n        \"description\": \"\"\n      }\n    }\n  ]\n}"
            }
          },
          "metadata": {},
          "execution_count": 3
        }
      ]
    },
    {
      "cell_type": "markdown",
      "source": [
        "Vemos los encabezados de los datos para tener una referencia de su composición."
      ],
      "metadata": {
        "id": "Ruu9JLx_bUoE"
      }
    },
    {
      "cell_type": "code",
      "source": [
        "data"
      ],
      "metadata": {
        "id": "3fcWSA1IQy59",
        "outputId": "87bdcd73-fd5d-421a-d01b-35898be21557",
        "colab": {
          "base_uri": "https://localhost:8080/"
        }
      },
      "execution_count": 4,
      "outputs": [
        {
          "output_type": "execute_result",
          "data": {
            "text/plain": [
              "array([[1950,   10,   10,   10],\n",
              "       [1951,   12,   11,   11],\n",
              "       [1952,   13,   11,   11],\n",
              "       [1953,   15,   11,   12],\n",
              "       [1954,   16,   12,   13],\n",
              "       [1955,   18,   13,   12],\n",
              "       [1956,   14,   12,   14],\n",
              "       [1957,   19,   14,   15],\n",
              "       [1958,   19,   15,   16],\n",
              "       [1959,   20,   16,   14],\n",
              "       [1960,   21,   14,   17],\n",
              "       [1961,   23,   17,   18],\n",
              "       [1962,   25,   18,   19],\n",
              "       [1963,   26,   19,   20],\n",
              "       [1964,   30,   20,   21],\n",
              "       [1965,   32,   21,   22],\n",
              "       [1966,   31,   22,   25],\n",
              "       [1967,   30,   25,   24],\n",
              "       [1968,   35,   24,   23],\n",
              "       [1969,   36,   23,   26],\n",
              "       [1970,   38,   26,   28],\n",
              "       [1971,   40,   28,   29],\n",
              "       [1972,   41,   29,   30],\n",
              "       [1973,   42,   30,   30],\n",
              "       [1974,   43,   30,   31],\n",
              "       [1975,   44,   31,   30],\n",
              "       [1976,   46,   30,   32],\n",
              "       [1977,   47,   32,   33],\n",
              "       [1978,   49,   33,   31],\n",
              "       [1979,   50,   31,   32],\n",
              "       [1980,   52,   32,   30],\n",
              "       [1981,   54,   30,   34],\n",
              "       [1982,   52,   34,   35],\n",
              "       [1983,   56,   35,   36],\n",
              "       [1984,   55,   36,   38],\n",
              "       [1985,   58,   38,   38],\n",
              "       [1986,   59,   38,   38],\n",
              "       [1987,   60,   38,   39],\n",
              "       [1988,   65,   39,   39],\n",
              "       [1989,   66,   39,   39],\n",
              "       [1990,   66,   39,   40],\n",
              "       [1991,   66,   40,   41],\n",
              "       [1992,   68,   41,   42],\n",
              "       [1993,   69,   42,   41],\n",
              "       [1994,   70,   41,   43],\n",
              "       [1995,   71,   43,   45],\n",
              "       [1996,   72,   45,   44],\n",
              "       [1997,   70,   44,   44],\n",
              "       [1998,   73,   44,   44],\n",
              "       [1999,   78,   44,   46],\n",
              "       [2000,   79,   46,   48]])"
            ]
          },
          "metadata": {},
          "execution_count": 4
        }
      ]
    },
    {
      "cell_type": "code",
      "source": [
        "L = data[:,2]\n",
        "K = data[:,3]\n",
        "P = data[:,1]\n",
        "array_L = np.array(L)\n",
        "array_K = np.array(K)\n",
        "Array_P = np.array(P)\n",
        "\n",
        "Logaritmo_PK= np.log(Array_P/array_K)\n",
        "Logaritmo_LK = np.log(array_L/array_K)"
      ],
      "metadata": {
        "id": "DlRnMawRTgTY"
      },
      "execution_count": 5,
      "outputs": []
    },
    {
      "cell_type": "code",
      "source": [
        "print(Logaritmo_PK.shape)\n",
        "print(Logaritmo_LK.shape)\n",
        "print(type(Logaritmo_PK))\n",
        "print(type(Logaritmo_LK))"
      ],
      "metadata": {
        "id": "juz4LNTyd2mn",
        "outputId": "06659efd-7989-4fd6-bc0b-838dcce0cc06",
        "colab": {
          "base_uri": "https://localhost:8080/"
        }
      },
      "execution_count": 6,
      "outputs": [
        {
          "output_type": "stream",
          "name": "stdout",
          "text": [
            "(51,)\n",
            "(51,)\n",
            "<class 'numpy.ndarray'>\n",
            "<class 'numpy.ndarray'>\n"
          ]
        }
      ]
    },
    {
      "cell_type": "code",
      "source": [
        "X_1 = Logaritmo_LK.reshape(-1,1)\n",
        "Y_1 = Logaritmo_PK.reshape(-1,1)"
      ],
      "metadata": {
        "id": "EZPZQXlIeYCy"
      },
      "execution_count": 7,
      "outputs": []
    },
    {
      "cell_type": "code",
      "source": [
        "plt.scatter(X_1,Y_1, color=\"green\")\n",
        "plt.title(\"Logaritmo de PK y Logaritmo de LK\")\n",
        "plt.xlabel(\"Logaritmo de LK\")\n",
        "plt.ylabel(\"Logaritmo de PK\")\n",
        "plt.show()"
      ],
      "metadata": {
        "colab": {
          "base_uri": "https://localhost:8080/",
          "height": 472
        },
        "id": "x5L45Vl2ThE1",
        "outputId": "6d8d2e6a-093f-4b7a-c9dd-42184247ce88"
      },
      "execution_count": 8,
      "outputs": [
        {
          "output_type": "display_data",
          "data": {
            "text/plain": [
              "<Figure size 640x480 with 1 Axes>"
            ],
            "image/png": "[encoded data removed]"
          },
          "metadata": {}
        }
      ]
    },
    {
      "cell_type": "code",
      "source": [],
      "metadata": {
        "id": "kMJtrsfld0wi"
      },
      "execution_count": 8,
      "outputs": []
    },
    {
      "cell_type": "markdown",
      "source": [
        "Los datos tienen una tendencia lineal poco más o menos marcada."
      ],
      "metadata": {
        "id": "InwXYBLubJJi"
      }
    },
    {
      "cell_type": "code",
      "source": [
        "from sklearn.model_selection import train_test_split\n",
        "X_train, X_test, y_train, y_test = train_test_split(X_1, Y_1, test_size=0.2)\n",
        "model=linear_model.LinearRegression()\n",
        "model.fit(X_train, y_train)\n",
        "pred=model.predict(X_test)"
      ],
      "metadata": {
        "id": "A_Pdu_clThQ-"
      },
      "execution_count": 10,
      "outputs": []
    },
    {
      "cell_type": "code",
      "source": [
        "print(\"Coeficiente de correlación lineal: \")\n",
        "print(model.coef_)\n",
        "print()\n",
        "print(\"Intercepción con el eje Y:\")\n",
        "print(model.intercept_)\n",
        "print()\n",
        "print(\"Precisión del modelo:\")\n",
        "print(model.score(X_test, y_test))"
      ],
      "metadata": {
        "colab": {
          "base_uri": "https://localhost:8080/"
        },
        "id": "oahC6NNEc7Wp",
        "outputId": "7422758d-c160-4afc-84be-b2ea051cc631"
      },
      "execution_count": 11,
      "outputs": [
        {
          "output_type": "stream",
          "name": "stdout",
          "text": [
            "Coeficiente de correlación lineal: \n",
            "[[0.91572356]]\n",
            "\n",
            "Intercepción con el eje Y:\n",
            "[0.38231315]\n",
            "\n",
            "Precisión del modelo:\n",
            "-0.1102829554186493\n"
          ]
        }
      ]
    },
    {
      "cell_type": "code",
      "source": [
        "import math\n",
        "constante = math.exp(0.38)\n",
        "print(f\"e^0.38 usando math.exp: {constante}\")\n",
        "constante_1 = np.exp(0.38)\n",
        "print(f\"e^0.38 usando np.exp: {constante_1}\")"
      ],
      "metadata": {
        "colab": {
          "base_uri": "https://localhost:8080/"
        },
        "id": "npLeOdC9lPqm",
        "outputId": "6ced3f2c-3333-457c-b95c-ffce1aaff6ed"
      },
      "execution_count": 13,
      "outputs": [
        {
          "output_type": "stream",
          "name": "stdout",
          "text": [
            "e^0.38 usando math.exp: 1.4622845894342245\n",
            "e^0.38 usando np.exp: 1.4622845894342245\n"
          ]
        }
      ]
    },
    {
      "cell_type": "markdown",
      "source": [
        "El modelo queda así: $ \\hat{Y} = 1.40X + 0.38$. El grado de ajuste líneal del modelo es bajo, con un 0.46.\\\\\n",
        "\n",
        "Entonces, \\\\\n",
        "\n",
        "Según la ecuación líneal. \\\\\n",
        "$ \\ln(\\frac{P}{K}) = α\\ln(\\frac{L}{K})+\\ln(C)$ \\\\\n",
        "$Y = β_{1}X + β_{0}$ \\\\\n",
        "Podemos decir que $α = \\beta_{1}$ y que $\\ln(C)= β_{0}$ \\\\\n",
        "Los resultados del ejercicio son: \\\\\n",
        "$ \\hat{Y} = 1.41X + 0.34$ \\\\\n",
        "entonces, \\\\\n",
        "\n",
        "$ P_{L,K} = CL^{α}K^{(1-α)}$  $\\rightarrow \\rightarrow \\rightarrow  P_{L,K} = 1.46L^{0.91}K^{0.09}$"
      ],
      "metadata": {
        "id": "0ypRd1k0ii4Y"
      }
    }
  ]
}